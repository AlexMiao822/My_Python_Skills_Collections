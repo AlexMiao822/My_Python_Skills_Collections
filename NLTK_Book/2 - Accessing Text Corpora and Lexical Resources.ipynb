{
 "cells": [
  {
   "cell_type": "markdown",
   "metadata": {},
   "source": [
    "http://www.nltk.org/book/ch02.html"
   ]
  },
  {
   "cell_type": "code",
   "execution_count": 137,
   "metadata": {
    "collapsed": true
   },
   "outputs": [],
   "source": [
    "import nltk"
   ]
  },
  {
   "cell_type": "code",
   "execution_count": null,
   "metadata": {
    "collapsed": true
   },
   "outputs": [],
   "source": []
  },
  {
   "cell_type": "markdown",
   "metadata": {},
   "source": [
    "A text corpus is a large, structured collection of texts. NLTK comes with many corpora, e.g., the Brown Corpus, nltk.corpus.brown.\n",
    "\n",
    "Some text corpora are categorized, e.g., by genre or topic; sometimes the categories of a corpus overlap each other.\n",
    "\n",
    "A conditional frequency distribution is a collection of frequency distributions, each one for a different condition. They can be used for counting word frequencies, given a context or a genre.\n",
    "\n",
    "Python programs more than a few lines long should be entered using a text editor, saved to a file with a .py extension, and accessed using an import statement.\n",
    "\n",
    "Python functions permit you to associate a name with a particular block of code, and re-use that code as often as necessary.\n",
    "\n",
    "Some functions, known as \"methods\", are associated with an object and we give the object name followed by a period followed by the function, like this: x.funct(y), e.g., word.isalpha().\n",
    "\n",
    "To find out about some variable v, type help(v) in the Python interactive interpreter to read the help entry for this kind of object.\n",
    "\n",
    "WordNet is a semantically-oriented dictionary of English, consisting of synonym sets — or synsets — and organized into a network.\n",
    "\n",
    "Some functions are not available by default, but must be accessed using Python's import statement."
   ]
  },
  {
   "cell_type": "code",
   "execution_count": null,
   "metadata": {
    "collapsed": true
   },
   "outputs": [],
   "source": []
  },
  {
   "cell_type": "markdown",
   "metadata": {
    "collapsed": true
   },
   "source": [
    "### Accessing Text Corpora"
   ]
  },
  {
   "cell_type": "code",
   "execution_count": 138,
   "metadata": {
    "collapsed": true
   },
   "outputs": [],
   "source": [
    "from nltk.corpus import gutenberg"
   ]
  },
  {
   "cell_type": "code",
   "execution_count": 139,
   "metadata": {
    "collapsed": false
   },
   "outputs": [
    {
     "data": {
      "text/plain": [
       "[u'austen-emma.txt',\n",
       " u'austen-persuasion.txt',\n",
       " u'austen-sense.txt',\n",
       " u'bible-kjv.txt',\n",
       " u'blake-poems.txt',\n",
       " u'bryant-stories.txt',\n",
       " u'burgess-busterbrown.txt',\n",
       " u'carroll-alice.txt',\n",
       " u'chesterton-ball.txt',\n",
       " u'chesterton-brown.txt',\n",
       " u'chesterton-thursday.txt',\n",
       " u'edgeworth-parents.txt',\n",
       " u'melville-moby_dick.txt',\n",
       " u'milton-paradise.txt',\n",
       " u'shakespeare-caesar.txt',\n",
       " u'shakespeare-hamlet.txt',\n",
       " u'shakespeare-macbeth.txt',\n",
       " u'whitman-leaves.txt']"
      ]
     },
     "execution_count": 139,
     "metadata": {},
     "output_type": "execute_result"
    }
   ],
   "source": [
    "gutenberg.fileids()"
   ]
  },
  {
   "cell_type": "code",
   "execution_count": 140,
   "metadata": {
    "collapsed": false
   },
   "outputs": [
    {
     "data": {
      "text/plain": [
       "[u'[',\n",
       " u'Leaves',\n",
       " u'of',\n",
       " u'Grass',\n",
       " u'by',\n",
       " u'Walt',\n",
       " u'Whitman',\n",
       " u'1855',\n",
       " u']',\n",
       " u'Come']"
      ]
     },
     "execution_count": 140,
     "metadata": {},
     "output_type": "execute_result"
    }
   ],
   "source": [
    "whitman = gutenberg.words('whitman-leaves.txt')\n",
    "whitman[:10]"
   ]
  },
  {
   "cell_type": "markdown",
   "metadata": {},
   "source": [
    "### Count number of chapters, sentences, and words in each file"
   ]
  },
  {
   "cell_type": "code",
   "execution_count": 141,
   "metadata": {
    "collapsed": false
   },
   "outputs": [
    {
     "name": "stdout",
     "output_type": "stream",
     "text": [
      "File name:  shakespeare-hamlet.txt\n",
      "Number of raw content:  162881\n",
      "Number of sentences:  3106\n",
      "Number of words:  37360\n",
      "Number of unique words:  5447\n",
      "\n",
      "\n",
      "File name:  shakespeare-macbeth.txt\n",
      "Number of raw content:  100351\n",
      "Number of sentences:  1907\n",
      "Number of words:  23140\n",
      "Number of unique words:  4017\n",
      "\n",
      "\n",
      "File name:  whitman-leaves.txt\n",
      "Number of raw content:  711215\n",
      "Number of sentences:  4250\n",
      "Number of words:  154883\n",
      "Number of unique words:  14329\n",
      "\n",
      "\n"
     ]
    }
   ],
   "source": [
    "for file_ in gutenberg.fileids()[-3:]:\n",
    "    print \"File name: \", file_\n",
    "    print \"Number of raw content: \", len(gutenberg.raw(file_))\n",
    "    print \"Number of sentences: \", len(gutenberg.sents(file_))\n",
    "    print \"Number of words: \", len(gutenberg.words(file_))\n",
    "    print \"Number of unique words: \", len(set(gutenberg.words(file_)))\n",
    "    print \"\\n\""
   ]
  },
  {
   "cell_type": "markdown",
   "metadata": {
    "collapsed": true
   },
   "source": [
    "### Web and Chat Text"
   ]
  },
  {
   "cell_type": "code",
   "execution_count": 142,
   "metadata": {
    "collapsed": true
   },
   "outputs": [],
   "source": [
    "from nltk.corpus import webtext\n",
    "from nltk.corpus import nps_chat"
   ]
  },
  {
   "cell_type": "markdown",
   "metadata": {
    "collapsed": true
   },
   "source": [
    "### Reuters Corpus"
   ]
  },
  {
   "cell_type": "code",
   "execution_count": 143,
   "metadata": {
    "collapsed": true
   },
   "outputs": [],
   "source": [
    "from nltk.corpus import reuters"
   ]
  },
  {
   "cell_type": "markdown",
   "metadata": {
    "collapsed": true
   },
   "source": [
    "### Inaugural Address Corpus"
   ]
  },
  {
   "cell_type": "code",
   "execution_count": 144,
   "metadata": {
    "collapsed": true
   },
   "outputs": [],
   "source": [
    "from nltk.corpus import inaugural"
   ]
  },
  {
   "cell_type": "code",
   "execution_count": 145,
   "metadata": {
    "collapsed": false
   },
   "outputs": [
    {
     "name": "stdout",
     "output_type": "stream",
     "text": [
      "1789-Washington.txt\n",
      "1793-Washington.txt\n",
      "1797-Adams.txt\n",
      "1801-Jefferson.txt\n"
     ]
    }
   ],
   "source": [
    "for file_ in inaugural.fileids()[:4]:\n",
    "    print file_"
   ]
  },
  {
   "cell_type": "code",
   "execution_count": 146,
   "metadata": {
    "collapsed": false
   },
   "outputs": [
    {
     "data": {
      "image/png": "[encoded data removed]",
      "text/plain": [
       "<matplotlib.figure.Figure at 0x11aa31550>"
      ]
     },
     "metadata": {},
     "output_type": "display_data"
    }
   ],
   "source": [
    "import nltk\n",
    "\n",
    "cfd = nltk.ConditionalFreqDist(\n",
    "                (target, file_[0:4])\n",
    "                for file_ in inaugural.fileids()\n",
    "                for target in ['american', 'great']\n",
    "                for word in inaugural.words(file_)\n",
    "                if word.lower().startswith(target))\n",
    "\n",
    "cfd.plot()"
   ]
  },
  {
   "cell_type": "markdown",
   "metadata": {},
   "source": [
    "### Loading your own Corpus"
   ]
  },
  {
   "cell_type": "code",
   "execution_count": 147,
   "metadata": {
    "collapsed": false
   },
   "outputs": [
    {
     "data": {
      "text/plain": [
       "u'/Users/AlexMeow/Documents/Academics/Machine Learning/Natural Language Processing/NLTK - book'"
      ]
     },
     "execution_count": 147,
     "metadata": {},
     "output_type": "execute_result"
    }
   ],
   "source": [
    "pwd"
   ]
  },
  {
   "cell_type": "raw",
   "metadata": {
    "collapsed": true
   },
   "source": [
    "If you have your own collection of text files that you would like to access using the above methods, you can easily load them with the help of NLTK's PlaintextCorpusReader. Check the location of your files on your file system; in the following example, we have taken this to be the directory /usr/share/dict. Whatever the location, set this to be the value of corpus_root [1]. The second parameter of the PlaintextCorpusReader initializer [2] can be a list of fileids, like ['a.txt', 'test/b.txt'], or a pattern that matches all fileids, like '[abc]/.*\\.txt' (see 3.4 for information about regular expressions)."
   ]
  },
  {
   "cell_type": "markdown",
   "metadata": {},
   "source": [
    "#### User PlaintextCorpusReader to read your own corpus"
   ]
  },
  {
   "cell_type": "code",
   "execution_count": 148,
   "metadata": {
    "collapsed": true
   },
   "outputs": [],
   "source": [
    "from nltk.corpus import PlaintextCorpusReader as pr"
   ]
  },
  {
   "cell_type": "code",
   "execution_count": 149,
   "metadata": {
    "collapsed": false
   },
   "outputs": [
    {
     "data": {
      "text/plain": [
       "['.DS_Store',\n",
       " '.ipynb_checkpoints/1 - Computing with Language - Texts and Words-checkpoint.ipynb',\n",
       " '.ipynb_checkpoints/2 - Accessing Text Corpora and Lexical Resources-checkpoint.ipynb',\n",
       " '.ipynb_checkpoints/Untitled-checkpoint.ipynb',\n",
       " '1 - Computing with Language - Texts and Words.ipynb',\n",
       " '2 - Accessing Text Corpora and Lexical Resources.ipynb',\n",
       " 'Untitled.ipynb',\n",
       " 'sample1.txt',\n",
       " 'sample2.txt',\n",
       " 'sample3.txt']"
      ]
     },
     "execution_count": 149,
     "metadata": {},
     "output_type": "execute_result"
    }
   ],
   "source": [
    "corpus_path = '/Users/AlexMeow/Documents/Academics/Machine Learning/Natural Language Processing/NLTK - book'\n",
    "filelist = pr(corpus_path, '.*')\n",
    "filelist.fileids()"
   ]
  },
  {
   "cell_type": "code",
   "execution_count": 150,
   "metadata": {
    "collapsed": false
   },
   "outputs": [
    {
     "name": "stdout",
     "output_type": "stream",
     "text": [
      "Number of sentences in sample1.txt is:  7\n",
      "Number of words in sample1.txt is:  119\n"
     ]
    }
   ],
   "source": [
    "filelist.words('sample1.txt')\n",
    "\n",
    "print \"Number of sentences in sample1.txt is: \", len(filelist.sents('sample1.txt'))\n",
    "print \"Number of words in sample1.txt is: \", len(filelist.words('sample1.txt'))"
   ]
  },
  {
   "cell_type": "code",
   "execution_count": 151,
   "metadata": {
    "collapsed": false
   },
   "outputs": [
    {
     "data": {
      "text/plain": [
       "[u'The', u'male', u'nodding', u'rule', u'.', u'Nod', ...]"
      ]
     },
     "execution_count": 151,
     "metadata": {},
     "output_type": "execute_result"
    }
   ],
   "source": [
    "filelist.words('sample1.txt')"
   ]
  },
  {
   "cell_type": "markdown",
   "metadata": {},
   "source": [
    "#### Find the most common words"
   ]
  },
  {
   "cell_type": "code",
   "execution_count": 152,
   "metadata": {
    "collapsed": false
   },
   "outputs": [
    {
     "data": {
      "text/plain": [
       "[(u',', 11), (u'.', 9), (u'the', 9), (u'to', 6), (u'a', 6)]"
      ]
     },
     "execution_count": 152,
     "metadata": {},
     "output_type": "execute_result"
    }
   ],
   "source": [
    "nltk.FreqDist(filelist.words('sample2.txt')).most_common(5)"
   ]
  },
  {
   "cell_type": "markdown",
   "metadata": {},
   "source": [
    "### Plural"
   ]
  },
  {
   "cell_type": "code",
   "execution_count": 153,
   "metadata": {
    "collapsed": true
   },
   "outputs": [],
   "source": [
    "def plural(word):\n",
    "    \n",
    "    if word.endswith('y'):\n",
    "        return word[:-1]+'ies'\n",
    "    if word[-1] in 'sx' or word[-2:] in ['sh', 'ch']:\n",
    "        return word+'es'\n",
    "    if word.endswith('an'):\n",
    "        return word[:-2]+'en'\n",
    "    else:\n",
    "        return word+'s'"
   ]
  },
  {
   "cell_type": "code",
   "execution_count": 154,
   "metadata": {
    "collapsed": false
   },
   "outputs": [
    {
     "data": {
      "text/plain": [
       "'flies'"
      ]
     },
     "execution_count": 154,
     "metadata": {},
     "output_type": "execute_result"
    }
   ],
   "source": [
    "plural('fly')"
   ]
  },
  {
   "cell_type": "code",
   "execution_count": 155,
   "metadata": {
    "collapsed": false
   },
   "outputs": [
    {
     "data": {
      "text/plain": [
       "'superwomen'"
      ]
     },
     "execution_count": 155,
     "metadata": {},
     "output_type": "execute_result"
    }
   ],
   "source": [
    "plural('superwoman')"
   ]
  },
  {
   "cell_type": "code",
   "execution_count": 156,
   "metadata": {
    "collapsed": false
   },
   "outputs": [
    {
     "data": {
      "text/plain": [
       "'Alexes'"
      ]
     },
     "execution_count": 156,
     "metadata": {},
     "output_type": "execute_result"
    }
   ],
   "source": [
    "plural('Alex')"
   ]
  },
  {
   "cell_type": "markdown",
   "metadata": {},
   "source": [
    "### Stopwords"
   ]
  },
  {
   "cell_type": "code",
   "execution_count": 157,
   "metadata": {
    "collapsed": false
   },
   "outputs": [
    {
     "data": {
      "text/plain": [
       "[u'au',\n",
       " u'aux',\n",
       " u'avec',\n",
       " u'ce',\n",
       " u'ces',\n",
       " u'dans',\n",
       " u'de',\n",
       " u'des',\n",
       " u'du',\n",
       " u'elle',\n",
       " u'en',\n",
       " u'et',\n",
       " u'eux',\n",
       " u'il',\n",
       " u'je',\n",
       " u'la',\n",
       " u'le',\n",
       " u'leur',\n",
       " u'lui',\n",
       " u'ma',\n",
       " u'mais',\n",
       " u'me',\n",
       " u'm\\xeame',\n",
       " u'mes',\n",
       " u'moi',\n",
       " u'mon',\n",
       " u'ne',\n",
       " u'nos',\n",
       " u'notre',\n",
       " u'nous',\n",
       " u'on',\n",
       " u'ou',\n",
       " u'par',\n",
       " u'pas',\n",
       " u'pour',\n",
       " u'qu',\n",
       " u'que',\n",
       " u'qui',\n",
       " u'sa',\n",
       " u'se',\n",
       " u'ses',\n",
       " u'son',\n",
       " u'sur',\n",
       " u'ta',\n",
       " u'te',\n",
       " u'tes',\n",
       " u'toi',\n",
       " u'ton',\n",
       " u'tu',\n",
       " u'un',\n",
       " u'une',\n",
       " u'vos',\n",
       " u'votre',\n",
       " u'vous',\n",
       " u'c',\n",
       " u'd',\n",
       " u'j',\n",
       " u'l',\n",
       " u'\\xe0',\n",
       " u'm',\n",
       " u'n',\n",
       " u's',\n",
       " u't',\n",
       " u'y',\n",
       " u'\\xe9t\\xe9',\n",
       " u'\\xe9t\\xe9e',\n",
       " u'\\xe9t\\xe9es',\n",
       " u'\\xe9t\\xe9s',\n",
       " u'\\xe9tant',\n",
       " u'\\xe9tante',\n",
       " u'\\xe9tants',\n",
       " u'\\xe9tantes',\n",
       " u'suis',\n",
       " u'es',\n",
       " u'est',\n",
       " u'sommes',\n",
       " u'\\xeates',\n",
       " u'sont',\n",
       " u'serai',\n",
       " u'seras',\n",
       " u'sera',\n",
       " u'serons',\n",
       " u'serez',\n",
       " u'seront',\n",
       " u'serais',\n",
       " u'serait',\n",
       " u'serions',\n",
       " u'seriez',\n",
       " u'seraient',\n",
       " u'\\xe9tais',\n",
       " u'\\xe9tait',\n",
       " u'\\xe9tions',\n",
       " u'\\xe9tiez',\n",
       " u'\\xe9taient',\n",
       " u'fus',\n",
       " u'fut',\n",
       " u'f\\xfbmes',\n",
       " u'f\\xfbtes',\n",
       " u'furent',\n",
       " u'sois',\n",
       " u'soit',\n",
       " u'soyons',\n",
       " u'soyez',\n",
       " u'soient',\n",
       " u'fusse',\n",
       " u'fusses',\n",
       " u'f\\xfbt',\n",
       " u'fussions',\n",
       " u'fussiez',\n",
       " u'fussent',\n",
       " u'ayant',\n",
       " u'ayante',\n",
       " u'ayantes',\n",
       " u'ayants',\n",
       " u'eu',\n",
       " u'eue',\n",
       " u'eues',\n",
       " u'eus',\n",
       " u'ai',\n",
       " u'as',\n",
       " u'avons',\n",
       " u'avez',\n",
       " u'ont',\n",
       " u'aurai',\n",
       " u'auras',\n",
       " u'aura',\n",
       " u'aurons',\n",
       " u'aurez',\n",
       " u'auront',\n",
       " u'aurais',\n",
       " u'aurait',\n",
       " u'aurions',\n",
       " u'auriez',\n",
       " u'auraient',\n",
       " u'avais',\n",
       " u'avait',\n",
       " u'avions',\n",
       " u'aviez',\n",
       " u'avaient',\n",
       " u'eut',\n",
       " u'e\\xfbmes',\n",
       " u'e\\xfbtes',\n",
       " u'eurent',\n",
       " u'aie',\n",
       " u'aies',\n",
       " u'ait',\n",
       " u'ayons',\n",
       " u'ayez',\n",
       " u'aient',\n",
       " u'eusse',\n",
       " u'eusses',\n",
       " u'e\\xfbt',\n",
       " u'eussions',\n",
       " u'eussiez',\n",
       " u'eussent']"
      ]
     },
     "execution_count": 157,
     "metadata": {},
     "output_type": "execute_result"
    }
   ],
   "source": [
    "from nltk.corpus import stopwords\n",
    "\n",
    "stopwords.words('French')"
   ]
  },
  {
   "cell_type": "markdown",
   "metadata": {},
   "source": [
    "### Names"
   ]
  },
  {
   "cell_type": "code",
   "execution_count": 158,
   "metadata": {
    "collapsed": true
   },
   "outputs": [],
   "source": [
    "from nltk.corpus import names"
   ]
  },
  {
   "cell_type": "code",
   "execution_count": 159,
   "metadata": {
    "collapsed": false
   },
   "outputs": [
    {
     "data": {
      "text/plain": [
       "[u'female.txt', u'male.txt']"
      ]
     },
     "execution_count": 159,
     "metadata": {},
     "output_type": "execute_result"
    }
   ],
   "source": [
    "names.fileids()"
   ]
  },
  {
   "cell_type": "code",
   "execution_count": 160,
   "metadata": {
    "collapsed": true
   },
   "outputs": [],
   "source": [
    "male_name = names.words('male.txt')\n",
    "female_name = names.words('female.txt')"
   ]
  },
  {
   "cell_type": "markdown",
   "metadata": {},
   "source": [
    "#### Count the first letters in male and female names"
   ]
  },
  {
   "cell_type": "code",
   "execution_count": 161,
   "metadata": {
    "collapsed": false
   },
   "outputs": [
    {
     "data": {
      "image/png": "[encoded data removed]",
      "text/plain": [
       "<matplotlib.figure.Figure at 0x11a7818d0>"
      ]
     },
     "metadata": {},
     "output_type": "display_data"
    }
   ],
   "source": [
    "cfd = nltk.ConditionalFreqDist(\n",
    "                                [file_, name[0]]\n",
    "                                for file_ in names.fileids()\n",
    "                                for name in names.words(file_)\n",
    "\n",
    ")\n",
    "\n",
    "cfd.plot()"
   ]
  },
  {
   "cell_type": "markdown",
   "metadata": {},
   "source": [
    "### WordNet"
   ]
  },
  {
   "cell_type": "markdown",
   "metadata": {},
   "source": [
    "WordNet is a semantically-oriented dictionary of English, similar to a traditional thesaurus but with a richer structure. NLTK includes the English WordNet, with 155,287 words and 117,659 synonym sets. We'll begin by looking at synonyms and how they are accessed in WordNet."
   ]
  },
  {
   "cell_type": "code",
   "execution_count": 162,
   "metadata": {
    "collapsed": false
   },
   "outputs": [
    {
     "data": {
      "text/plain": [
       "[Synset('car.n.01')]"
      ]
     },
     "execution_count": 162,
     "metadata": {},
     "output_type": "execute_result"
    }
   ],
   "source": [
    "from nltk.corpus import wordnet as wn\n",
    "wn.synsets('motorcar')"
   ]
  },
  {
   "cell_type": "markdown",
   "metadata": {},
   "source": [
    "\"astronaut.n.01\" means the one only has one meaning identified as \"n.01\". The entity \"astronaut.n.01\" is called a synset, or \"synonym set\", a collection of synonymous words (or \"lemmas\"):"
   ]
  },
  {
   "cell_type": "code",
   "execution_count": 163,
   "metadata": {
    "collapsed": false
   },
   "outputs": [
    {
     "data": {
      "text/plain": [
       "<bound method Synset.lemmas of Synset('car.n.01')>"
      ]
     },
     "execution_count": 163,
     "metadata": {},
     "output_type": "execute_result"
    }
   ],
   "source": [
    "wn.synset('car.n.01').lemmas"
   ]
  },
  {
   "cell_type": "code",
   "execution_count": 164,
   "metadata": {
    "collapsed": false
   },
   "outputs": [
    {
     "data": {
      "text/plain": [
       "[Synset('car.n.01'),\n",
       " Synset('car.n.02'),\n",
       " Synset('car.n.03'),\n",
       " Synset('car.n.04'),\n",
       " Synset('cable_car.n.01')]"
      ]
     },
     "execution_count": 164,
     "metadata": {},
     "output_type": "execute_result"
    }
   ],
   "source": [
    "wn.synsets('car')"
   ]
  },
  {
   "cell_type": "code",
   "execution_count": 165,
   "metadata": {
    "collapsed": false
   },
   "outputs": [
    {
     "name": "stdout",
     "output_type": "stream",
     "text": [
      "<bound method Synset.lemma_names of Synset('car.n.01')>\n",
      "<bound method Synset.lemma_names of Synset('car.n.02')>\n",
      "<bound method Synset.lemma_names of Synset('car.n.03')>\n",
      "<bound method Synset.lemma_names of Synset('car.n.04')>\n",
      "<bound method Synset.lemma_names of Synset('cable_car.n.01')>\n"
     ]
    }
   ],
   "source": [
    "for synset in wn.synsets('car'):\n",
    "    print synset.lemma_names"
   ]
  },
  {
   "cell_type": "code",
   "execution_count": null,
   "metadata": {
    "collapsed": true
   },
   "outputs": [],
   "source": []
  },
  {
   "cell_type": "code",
   "execution_count": null,
   "metadata": {
    "collapsed": true
   },
   "outputs": [],
   "source": []
  },
  {
   "cell_type": "code",
   "execution_count": null,
   "metadata": {
    "collapsed": true
   },
   "outputs": [],
   "source": []
  },
  {
   "cell_type": "code",
   "execution_count": null,
   "metadata": {
    "collapsed": true
   },
   "outputs": [],
   "source": []
  },
  {
   "cell_type": "code",
   "execution_count": null,
   "metadata": {
    "collapsed": true
   },
   "outputs": [],
   "source": []
  },
  {
   "cell_type": "code",
   "execution_count": null,
   "metadata": {
    "collapsed": true
   },
   "outputs": [],
   "source": []
  }
 ],
 "metadata": {
  "kernelspec": {
   "display_name": "Python 2",
   "language": "python",
   "name": "python2"
  },
  "language_info": {
   "codemirror_mode": {
    "name": "ipython",
    "version": 2
   },
   "file_extension": ".py",
   "mimetype": "text/x-python",
   "name": "python",
   "nbconvert_exporter": "python",
   "pygments_lexer": "ipython2",
   "version": "2.7.13"
  }
 },
 "nbformat": 4,
 "nbformat_minor": 2
}
